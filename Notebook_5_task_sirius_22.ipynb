{
 "cells": [
  {
   "cell_type": "code",
   "execution_count": 1,
   "metadata": {
    "id": "BNzo8a1LWUaM"
   },
   "outputs": [],
   "source": [
    "import numpy as np\n",
    "import pandas as pd\n",
    "import datetime as dt\n",
    "import pickle\n",
    "\n",
    "import warnings\n",
    "warnings.filterwarnings(\"ignore\")"
   ]
  },
  {
   "cell_type": "code",
   "execution_count": 2,
   "metadata": {
    "id": "aFU3N1EHX-b-"
   },
   "outputs": [],
   "source": [
    "# # Авторизация гугл диска\n",
    "# from google.colab import drive\n",
    "# drive.mount('/content/drive')"
   ]
  },
  {
   "cell_type": "code",
   "execution_count": 3,
   "metadata": {
    "id": "NFNARw5bX_6f"
   },
   "outputs": [],
   "source": [
    "# %cd /content/drive/"
   ]
  },
  {
   "cell_type": "code",
   "execution_count": 4,
   "metadata": {
    "id": "aC_WyGxkKA7E"
   },
   "outputs": [],
   "source": [
    "# создаем датасет для проверки\n",
    "assert_values = [\n",
    "    [0, 708930000.0, 688998322.0, 666349089.0, 647380821.0, 630300887.0, 611463914.0, 591781038.0],\n",
    "    [1, 721780000.0, 700858040.0, 679984420.0, 661238265.0, 644054439.0, 624842853.0, 604260080.0],\n",
    "    [2, 676197680.0, 657479234.0, 635803739.0, 616560408.0, 599282032.0, 582739733.0, 564951055.0],\n",
    "    [3, 705906000.0, 684776146.0, 664699620.0, 646675310.0, 629384170.0, 611508787.0, 590382699.0],\n",
    "    [4, 697650000.0, 677569923.0, 657200106.0, 638066185.0, 620003731.0, 600610165.0, 583305516.0],\n",
    "    [5, 690886000.0, 670980106.0, 650141712.0, 631199828.0, 613500459.0, 596658378.0, 578937537.0],\n",
    "    [6, 725780000.0, 703148787.0, 681992058.0, 661459515.0, 641162461.0, 621924929.0, 602339667.0],\n",
    "]\n",
    "assert_data = pd.DataFrame(assert_values, columns=['MONTHS_PAST_DEFAULT'] + [f'DEBT_{i}' for i in range(7)])\n",
    "assert_data = assert_data.set_index('MONTHS_PAST_DEFAULT')"
   ]
  },
  {
   "cell_type": "markdown",
   "metadata": {
    "id": "VGm74zhxWw6z"
   },
   "source": [
    "# Загрузка данных"
   ]
  },
  {
   "cell_type": "markdown",
   "metadata": {
    "id": "nZ3i7LKbmEOn"
   },
   "source": [
    "Наша стартовая таблица \"Dataset_UP_LGD.csv\" со следующими полями:\n",
    "* ID - идентификационный номер клиента \n",
    "* DEBT_0 - сумма долга клиента в месяц дефолта\n",
    "* PAYMENT_0\t- сумма платежа клиента в месяц дефолта\n",
    "* PAYMENT_1\t- сумма платежа клиента в следующем месяце после дефолта клиента\n",
    "* PAYMENT_2\t- сумма платежа клиента через 2 месяца после дефолта клиента\t\n",
    "* PAYMENT_3\t- сумма платежа клиента через 3 месяца после дефолта \t\n",
    "* PAYMENT_4\t- сумма платежа клиента через 4 месяца после дефолта \t\n",
    "* PAYMENT_5\t- сумма платежа клиента через 5 месяца после дефолта \t\n",
    "* PAYMENT_6\t- сумма платежа клиента через 6 месяца после дефолта "
   ]
  },
  {
   "cell_type": "code",
   "execution_count": 5,
   "metadata": {
    "id": "xsuApFfbf4Ms"
   },
   "outputs": [
    {
     "data": {
      "text/html": [
       "<div>\n",
       "<style scoped>\n",
       "    .dataframe tbody tr th:only-of-type {\n",
       "        vertical-align: middle;\n",
       "    }\n",
       "\n",
       "    .dataframe tbody tr th {\n",
       "        vertical-align: top;\n",
       "    }\n",
       "\n",
       "    .dataframe thead th {\n",
       "        text-align: right;\n",
       "    }\n",
       "</style>\n",
       "<table border=\"1\" class=\"dataframe\">\n",
       "  <thead>\n",
       "    <tr style=\"text-align: right;\">\n",
       "      <th></th>\n",
       "      <th>ID</th>\n",
       "      <th>DEBT_0</th>\n",
       "      <th>PAYMENT_0</th>\n",
       "      <th>PAYMENT_1</th>\n",
       "      <th>PAYMENT_2</th>\n",
       "      <th>PAYMENT_3</th>\n",
       "      <th>PAYMENT_4</th>\n",
       "      <th>PAYMENT_5</th>\n",
       "      <th>PAYMENT_6</th>\n",
       "    </tr>\n",
       "  </thead>\n",
       "  <tbody>\n",
       "    <tr>\n",
       "      <th>0</th>\n",
       "      <td>1</td>\n",
       "      <td>20000.0</td>\n",
       "      <td>0</td>\n",
       "      <td>0.0</td>\n",
       "      <td>689.0</td>\n",
       "      <td>0.0</td>\n",
       "      <td>0.0</td>\n",
       "      <td>0.0</td>\n",
       "      <td>0.0</td>\n",
       "    </tr>\n",
       "    <tr>\n",
       "      <th>1</th>\n",
       "      <td>2</td>\n",
       "      <td>120000.0</td>\n",
       "      <td>0</td>\n",
       "      <td>0.0</td>\n",
       "      <td>1000.0</td>\n",
       "      <td>1000.0</td>\n",
       "      <td>NaN</td>\n",
       "      <td>NaN</td>\n",
       "      <td>NaN</td>\n",
       "    </tr>\n",
       "    <tr>\n",
       "      <th>2</th>\n",
       "      <td>3</td>\n",
       "      <td>90000.0</td>\n",
       "      <td>0</td>\n",
       "      <td>1518.0</td>\n",
       "      <td>1500.0</td>\n",
       "      <td>1000.0</td>\n",
       "      <td>1000.0</td>\n",
       "      <td>NaN</td>\n",
       "      <td>NaN</td>\n",
       "    </tr>\n",
       "    <tr>\n",
       "      <th>3</th>\n",
       "      <td>4</td>\n",
       "      <td>50000.0</td>\n",
       "      <td>0</td>\n",
       "      <td>2000.0</td>\n",
       "      <td>2019.0</td>\n",
       "      <td>1200.0</td>\n",
       "      <td>1100.0</td>\n",
       "      <td>1069.0</td>\n",
       "      <td>1000.0</td>\n",
       "    </tr>\n",
       "    <tr>\n",
       "      <th>4</th>\n",
       "      <td>6</td>\n",
       "      <td>50000.0</td>\n",
       "      <td>0</td>\n",
       "      <td>2500.0</td>\n",
       "      <td>1815.0</td>\n",
       "      <td>657.0</td>\n",
       "      <td>1000.0</td>\n",
       "      <td>NaN</td>\n",
       "      <td>NaN</td>\n",
       "    </tr>\n",
       "  </tbody>\n",
       "</table>\n",
       "</div>"
      ],
      "text/plain": [
       "   ID    DEBT_0  PAYMENT_0  PAYMENT_1  PAYMENT_2  PAYMENT_3  PAYMENT_4  \\\n",
       "0   1   20000.0          0        0.0      689.0        0.0        0.0   \n",
       "1   2  120000.0          0        0.0     1000.0     1000.0        NaN   \n",
       "2   3   90000.0          0     1518.0     1500.0     1000.0     1000.0   \n",
       "3   4   50000.0          0     2000.0     2019.0     1200.0     1100.0   \n",
       "4   6   50000.0          0     2500.0     1815.0      657.0     1000.0   \n",
       "\n",
       "   PAYMENT_5  PAYMENT_6  \n",
       "0        0.0        0.0  \n",
       "1        NaN        NaN  \n",
       "2        NaN        NaN  \n",
       "3     1069.0     1000.0  \n",
       "4        NaN        NaN  "
      ]
     },
     "execution_count": 5,
     "metadata": {},
     "output_type": "execute_result"
    }
   ],
   "source": [
    "data = pd.read_csv('./Dataset_UP_LGD.csv')\n",
    "data.head()"
   ]
  },
  {
   "cell_type": "markdown",
   "metadata": {
    "id": "PhLnp_tYpMP0"
   },
   "source": [
    "# Task 1. Вычисление долга"
   ]
  },
  {
   "cell_type": "markdown",
   "metadata": {
    "id": "TfFQWwoyspeO"
   },
   "source": [
    "Напишите функцию, которая возвращает по каждому клиенту информацию о его долге в каждый месяц после дефолта.\n",
    "\n",
    "Функция на вход принимает таблицу data\n",
    "\n",
    "Результатом работы функции является DataFrame с полями:\n",
    "* ID - идентификационный номер клиента\n",
    "* MONTHS_PAST_DEFAULT - количество месяцев после дефолта (количество столбцов с долгом != Nan - 1)\n",
    "* DEBT_0 - сумма долга в момент дефолта\n",
    "* DEBT_1 - сумма долга в следующем месяце после дефолта\n",
    "* DEBT_2 - сумма долга через 2 есяца после дефолта\n",
    "* DEBT_3 - сумма долга через 3 есяца после дефолта\n",
    "* DEBT_4 - сумма долга через 4 есяца после дефолта\n",
    "* DEBT_5 - сумма долга через 5 есяца после дефолта\n",
    "* DEBT_6 - сумма долга через 6 есяца после дефолта"
   ]
  },
  {
   "cell_type": "code",
   "execution_count": 6,
   "metadata": {
    "id": "vi5tDkJZf4JO"
   },
   "outputs": [],
   "source": [
    "def calc_debt(data_):\n",
    "    payment_cols = [f'PAYMENT_{i}' for i in range(7)]\n",
    "    notna = data_[payment_cols].notna().sum(axis=1)-1\n",
    "    data_['MONTHS_PAST_DEFAULT'] = notna\n",
    "\n",
    "    for i in range(1, 7):\n",
    "        data_[f'DEBT_{i}'] = data_['DEBT_0'] - sum([data_[f'PAYMENT_{j}'] for j in range(0, i+1)])\n",
    "    data_ = data_.loc[:, ~data_.columns.str.startswith('PAYMENT')]\n",
    "    \n",
    "    return data_"
   ]
  },
  {
   "cell_type": "code",
   "execution_count": 7,
   "metadata": {
    "id": "R_jCXTnvf4FV"
   },
   "outputs": [
    {
     "name": "stdout",
     "output_type": "stream",
     "text": [
      "(29034, 9)\n"
     ]
    }
   ],
   "source": [
    "data = calc_debt(data_ = data.copy())\n",
    "\n",
    "print(data.shape)\n",
    "assert data.shape == (29034, 9)\n",
    "assert data.sum().sum() == 19019524231.0\n",
    "assert data.count().sum() == 174319"
   ]
  },
  {
   "cell_type": "code",
   "execution_count": 8,
   "metadata": {
    "id": "p2t2xywXXHqr"
   },
   "outputs": [
    {
     "data": {
      "text/html": [
       "<div>\n",
       "<style scoped>\n",
       "    .dataframe tbody tr th:only-of-type {\n",
       "        vertical-align: middle;\n",
       "    }\n",
       "\n",
       "    .dataframe tbody tr th {\n",
       "        vertical-align: top;\n",
       "    }\n",
       "\n",
       "    .dataframe thead th {\n",
       "        text-align: right;\n",
       "    }\n",
       "</style>\n",
       "<table border=\"1\" class=\"dataframe\">\n",
       "  <thead>\n",
       "    <tr style=\"text-align: right;\">\n",
       "      <th></th>\n",
       "      <th>ID</th>\n",
       "      <th>DEBT_0</th>\n",
       "      <th>MONTHS_PAST_DEFAULT</th>\n",
       "      <th>DEBT_1</th>\n",
       "      <th>DEBT_2</th>\n",
       "      <th>DEBT_3</th>\n",
       "      <th>DEBT_4</th>\n",
       "      <th>DEBT_5</th>\n",
       "      <th>DEBT_6</th>\n",
       "    </tr>\n",
       "  </thead>\n",
       "  <tbody>\n",
       "    <tr>\n",
       "      <th>0</th>\n",
       "      <td>1</td>\n",
       "      <td>20000.0</td>\n",
       "      <td>6</td>\n",
       "      <td>20000.0</td>\n",
       "      <td>19311.0</td>\n",
       "      <td>19311.0</td>\n",
       "      <td>19311.0</td>\n",
       "      <td>19311.0</td>\n",
       "      <td>19311.0</td>\n",
       "    </tr>\n",
       "    <tr>\n",
       "      <th>1</th>\n",
       "      <td>2</td>\n",
       "      <td>120000.0</td>\n",
       "      <td>3</td>\n",
       "      <td>120000.0</td>\n",
       "      <td>119000.0</td>\n",
       "      <td>118000.0</td>\n",
       "      <td>NaN</td>\n",
       "      <td>NaN</td>\n",
       "      <td>NaN</td>\n",
       "    </tr>\n",
       "    <tr>\n",
       "      <th>2</th>\n",
       "      <td>3</td>\n",
       "      <td>90000.0</td>\n",
       "      <td>4</td>\n",
       "      <td>88482.0</td>\n",
       "      <td>86982.0</td>\n",
       "      <td>85982.0</td>\n",
       "      <td>84982.0</td>\n",
       "      <td>NaN</td>\n",
       "      <td>NaN</td>\n",
       "    </tr>\n",
       "    <tr>\n",
       "      <th>3</th>\n",
       "      <td>4</td>\n",
       "      <td>50000.0</td>\n",
       "      <td>6</td>\n",
       "      <td>48000.0</td>\n",
       "      <td>45981.0</td>\n",
       "      <td>44781.0</td>\n",
       "      <td>43681.0</td>\n",
       "      <td>42612.0</td>\n",
       "      <td>41612.0</td>\n",
       "    </tr>\n",
       "    <tr>\n",
       "      <th>4</th>\n",
       "      <td>6</td>\n",
       "      <td>50000.0</td>\n",
       "      <td>4</td>\n",
       "      <td>47500.0</td>\n",
       "      <td>45685.0</td>\n",
       "      <td>45028.0</td>\n",
       "      <td>44028.0</td>\n",
       "      <td>NaN</td>\n",
       "      <td>NaN</td>\n",
       "    </tr>\n",
       "  </tbody>\n",
       "</table>\n",
       "</div>"
      ],
      "text/plain": [
       "   ID    DEBT_0  MONTHS_PAST_DEFAULT    DEBT_1    DEBT_2    DEBT_3   DEBT_4  \\\n",
       "0   1   20000.0                    6   20000.0   19311.0   19311.0  19311.0   \n",
       "1   2  120000.0                    3  120000.0  119000.0  118000.0      NaN   \n",
       "2   3   90000.0                    4   88482.0   86982.0   85982.0  84982.0   \n",
       "3   4   50000.0                    6   48000.0   45981.0   44781.0  43681.0   \n",
       "4   6   50000.0                    4   47500.0   45685.0   45028.0  44028.0   \n",
       "\n",
       "    DEBT_5   DEBT_6  \n",
       "0  19311.0  19311.0  \n",
       "1      NaN      NaN  \n",
       "2      NaN      NaN  \n",
       "3  42612.0  41612.0  \n",
       "4      NaN      NaN  "
      ]
     },
     "execution_count": 8,
     "metadata": {},
     "output_type": "execute_result"
    }
   ],
   "source": [
    "data.head()"
   ]
  },
  {
   "cell_type": "markdown",
   "metadata": {
    "id": "ECoU6_tBOf7a"
   },
   "source": [
    "# Task 2. Группировка наблюдений"
   ]
  },
  {
   "cell_type": "markdown",
   "metadata": {
    "id": "_mD2hyyRPtqo"
   },
   "source": [
    "Реалиуйте функцию, которая возвращает общую сумму долга для каждой группы наблюдений с одинаковым возрастом дефолта в каждый месяц после дефолта.\n",
    "\n",
    "Функция на вход принимает таблицу с долгом data\n",
    "\n",
    "Результатом работы функции является DataFrame с полями:\n",
    "\n",
    "* MONTHS_PAST_DEFAULT - количество месяцев после дефолта в качестве ИНДЕКСА\n",
    "* DEBT_0 - сумма долга в момент дефолта\n",
    "* DEBT_1 - сумма долга в следующем месяце после дефолта\n",
    "* DEBT_2 - сумма долга через 2 есяца после дефолта\n",
    "* DEBT_3 - сумма долга через 3 есяца после дефолта\n",
    "* DEBT_4 - сумма долга через 4 есяца после дефолта\n",
    "* DEBT_5 - сумма долга через 5 есяца после дефолта\n",
    "* DEBT_6 - сумма долга через 6 есяца после дефолта\n",
    "\n",
    "Учтите следующее: для тех месяцев, по которым нет данных о долге в таблице должно быть проставлено NaN"
   ]
  },
  {
   "cell_type": "code",
   "execution_count": 9,
   "metadata": {
    "id": "--RHr2fhOcPi"
   },
   "outputs": [],
   "source": [
    "def group_debt(data_):\n",
    "    return data_.groupby('MONTHS_PAST_DEFAULT').sum().drop(columns=['ID']).replace(0, np.nan)"
   ]
  },
  {
   "cell_type": "code",
   "execution_count": 10,
   "metadata": {
    "id": "TpszMU4AOcLL"
   },
   "outputs": [],
   "source": [
    "data_gr = group_debt(data_ = data.copy())\n",
    "\n",
    "assert data_gr.shape == (7, 7)\n",
    "assert data_gr.sum().sum() == 18584769614.0\n",
    "assert data_gr.count().sum() == 28"
   ]
  },
  {
   "cell_type": "markdown",
   "metadata": {
    "id": "FAE58RzfSBVD"
   },
   "source": [
    "# Task 3. Вычисление коэффициентов"
   ]
  },
  {
   "cell_type": "markdown",
   "metadata": {
    "id": "4i1NOd3gSBFD"
   },
   "source": [
    "Реализуйте функцию, которая возвращает список коэффициентов переходов для суммы долга между суммами долга в разные месяцы.\n",
    "\n",
    "Функция на вход принимает сгруппированную таблицу data_gr\n",
    "\n",
    "Результатом работы функции является np.array с коэффициентами перехода (округлите коэффициенты перехода до 5 знака)."
   ]
  },
  {
   "cell_type": "code",
   "execution_count": 11,
   "metadata": {},
   "outputs": [
    {
     "data": {
      "text/html": [
       "<div>\n",
       "<style scoped>\n",
       "    .dataframe tbody tr th:only-of-type {\n",
       "        vertical-align: middle;\n",
       "    }\n",
       "\n",
       "    .dataframe tbody tr th {\n",
       "        vertical-align: top;\n",
       "    }\n",
       "\n",
       "    .dataframe thead th {\n",
       "        text-align: right;\n",
       "    }\n",
       "</style>\n",
       "<table border=\"1\" class=\"dataframe\">\n",
       "  <thead>\n",
       "    <tr style=\"text-align: right;\">\n",
       "      <th></th>\n",
       "      <th>DEBT_0</th>\n",
       "      <th>DEBT_1</th>\n",
       "      <th>DEBT_2</th>\n",
       "      <th>DEBT_3</th>\n",
       "      <th>DEBT_4</th>\n",
       "      <th>DEBT_5</th>\n",
       "      <th>DEBT_6</th>\n",
       "    </tr>\n",
       "    <tr>\n",
       "      <th>MONTHS_PAST_DEFAULT</th>\n",
       "      <th></th>\n",
       "      <th></th>\n",
       "      <th></th>\n",
       "      <th></th>\n",
       "      <th></th>\n",
       "      <th></th>\n",
       "      <th></th>\n",
       "    </tr>\n",
       "  </thead>\n",
       "  <tbody>\n",
       "    <tr>\n",
       "      <th>0</th>\n",
       "      <td>708930000.0</td>\n",
       "      <td>NaN</td>\n",
       "      <td>NaN</td>\n",
       "      <td>NaN</td>\n",
       "      <td>NaN</td>\n",
       "      <td>NaN</td>\n",
       "      <td>NaN</td>\n",
       "    </tr>\n",
       "    <tr>\n",
       "      <th>1</th>\n",
       "      <td>721780000.0</td>\n",
       "      <td>700858040.0</td>\n",
       "      <td>NaN</td>\n",
       "      <td>NaN</td>\n",
       "      <td>NaN</td>\n",
       "      <td>NaN</td>\n",
       "      <td>NaN</td>\n",
       "    </tr>\n",
       "    <tr>\n",
       "      <th>2</th>\n",
       "      <td>676197680.0</td>\n",
       "      <td>657479234.0</td>\n",
       "      <td>635803739.0</td>\n",
       "      <td>NaN</td>\n",
       "      <td>NaN</td>\n",
       "      <td>NaN</td>\n",
       "      <td>NaN</td>\n",
       "    </tr>\n",
       "    <tr>\n",
       "      <th>3</th>\n",
       "      <td>705906000.0</td>\n",
       "      <td>684776146.0</td>\n",
       "      <td>664699620.0</td>\n",
       "      <td>646675310.0</td>\n",
       "      <td>NaN</td>\n",
       "      <td>NaN</td>\n",
       "      <td>NaN</td>\n",
       "    </tr>\n",
       "    <tr>\n",
       "      <th>4</th>\n",
       "      <td>697650000.0</td>\n",
       "      <td>677569923.0</td>\n",
       "      <td>657200106.0</td>\n",
       "      <td>638066185.0</td>\n",
       "      <td>620003731.0</td>\n",
       "      <td>NaN</td>\n",
       "      <td>NaN</td>\n",
       "    </tr>\n",
       "    <tr>\n",
       "      <th>5</th>\n",
       "      <td>690886000.0</td>\n",
       "      <td>670980106.0</td>\n",
       "      <td>650141712.0</td>\n",
       "      <td>631199828.0</td>\n",
       "      <td>613500459.0</td>\n",
       "      <td>596658378.0</td>\n",
       "      <td>NaN</td>\n",
       "    </tr>\n",
       "    <tr>\n",
       "      <th>6</th>\n",
       "      <td>725780000.0</td>\n",
       "      <td>703148787.0</td>\n",
       "      <td>681992058.0</td>\n",
       "      <td>661459515.0</td>\n",
       "      <td>641162461.0</td>\n",
       "      <td>621924929.0</td>\n",
       "      <td>602339667.0</td>\n",
       "    </tr>\n",
       "  </tbody>\n",
       "</table>\n",
       "</div>"
      ],
      "text/plain": [
       "                          DEBT_0       DEBT_1       DEBT_2       DEBT_3  \\\n",
       "MONTHS_PAST_DEFAULT                                                       \n",
       "0                    708930000.0          NaN          NaN          NaN   \n",
       "1                    721780000.0  700858040.0          NaN          NaN   \n",
       "2                    676197680.0  657479234.0  635803739.0          NaN   \n",
       "3                    705906000.0  684776146.0  664699620.0  646675310.0   \n",
       "4                    697650000.0  677569923.0  657200106.0  638066185.0   \n",
       "5                    690886000.0  670980106.0  650141712.0  631199828.0   \n",
       "6                    725780000.0  703148787.0  681992058.0  661459515.0   \n",
       "\n",
       "                          DEBT_4       DEBT_5       DEBT_6  \n",
       "MONTHS_PAST_DEFAULT                                         \n",
       "0                            NaN          NaN          NaN  \n",
       "1                            NaN          NaN          NaN  \n",
       "2                            NaN          NaN          NaN  \n",
       "3                            NaN          NaN          NaN  \n",
       "4                    620003731.0          NaN          NaN  \n",
       "5                    613500459.0  596658378.0          NaN  \n",
       "6                    641162461.0  621924929.0  602339667.0  "
      ]
     },
     "execution_count": 11,
     "metadata": {},
     "output_type": "execute_result"
    }
   ],
   "source": [
    "data_gr"
   ]
  },
  {
   "cell_type": "code",
   "execution_count": 12,
   "metadata": {},
   "outputs": [
    {
     "data": {
      "text/plain": [
       "[0]"
      ]
     },
     "execution_count": 12,
     "metadata": {},
     "output_type": "execute_result"
    }
   ],
   "source": [
    "list(range(1))"
   ]
  },
  {
   "cell_type": "code",
   "execution_count": 13,
   "metadata": {
    "id": "wk5nEzblOcC4"
   },
   "outputs": [],
   "source": [
    "def calc_coefs(data_):\n",
    "    coefs = []\n",
    "    for i in range(6):\n",
    "        df = data_.drop(list(range(i+1)))\n",
    "        df = df[[f'DEBT_{i}', f'DEBT_{i+1}']]\n",
    "        df = df.sum()\n",
    "        coefs.append(df[f'DEBT_{i+1}']/df[f'DEBT_{i}'])\n",
    "        \n",
    "    return np.round(coefs, 5)"
   ]
  },
  {
   "cell_type": "code",
   "execution_count": 14,
   "metadata": {
    "id": "7QPN1fXvR8Ux"
   },
   "outputs": [
    {
     "name": "stdout",
     "output_type": "stream",
     "text": [
      "[0.97075 0.96932 0.97113 0.97096 0.97124 0.96851]\n"
     ]
    }
   ],
   "source": [
    "coefs = calc_coefs(data_ = data_gr)\n",
    "print(coefs)\n",
    "assert coefs.shape == (6,)\n",
    "assert round(coefs.sum(), 5) == 5.82191"
   ]
  },
  {
   "cell_type": "markdown",
   "metadata": {
    "id": "-gVD54DcT12N"
   },
   "source": [
    "# Task 4. Заполнение пропусков"
   ]
  },
  {
   "cell_type": "markdown",
   "metadata": {
    "id": "u70UE6_gT1ry"
   },
   "source": [
    "Реалиуйте функцию, которая заполняет пропуски в сгруппированной таблице долга.\n",
    "\n",
    "Функция на вход принимает:\n",
    "* таблицу со сгруппированным долгом data_gr\n",
    "* список коэффициентов coefs\n",
    "\n",
    "Результатом работы функции является заполненный DataFrame с полями:\n",
    "\n",
    "* MONTHS_PAST_DEFAULT - количество месяцев после дефолта в качестве ИНДЕКСА\n",
    "* DEBT_0 - сумма долга в момент дефолта\n",
    "* DEBT_1 - сумма долга в следующем месяце после дефолта\n",
    "* DEBT_2 - сумма долга через 2 есяца после дефолта\n",
    "* DEBT_3 - сумма долга через 3 есяца после дефолта\n",
    "* DEBT_4 - сумма долга через 4 есяца после дефолта\n",
    "* DEBT_5 - сумма долга через 5 есяца после дефолта\n",
    "* DEBT_6 - сумма долга через 6 есяца после дефолта\n"
   ]
  },
  {
   "cell_type": "code",
   "execution_count": 15,
   "metadata": {},
   "outputs": [
    {
     "data": {
      "text/html": [
       "<div>\n",
       "<style scoped>\n",
       "    .dataframe tbody tr th:only-of-type {\n",
       "        vertical-align: middle;\n",
       "    }\n",
       "\n",
       "    .dataframe tbody tr th {\n",
       "        vertical-align: top;\n",
       "    }\n",
       "\n",
       "    .dataframe thead th {\n",
       "        text-align: right;\n",
       "    }\n",
       "</style>\n",
       "<table border=\"1\" class=\"dataframe\">\n",
       "  <thead>\n",
       "    <tr style=\"text-align: right;\">\n",
       "      <th></th>\n",
       "      <th>DEBT_0</th>\n",
       "      <th>DEBT_1</th>\n",
       "      <th>DEBT_2</th>\n",
       "      <th>DEBT_3</th>\n",
       "      <th>DEBT_4</th>\n",
       "      <th>DEBT_5</th>\n",
       "      <th>DEBT_6</th>\n",
       "    </tr>\n",
       "    <tr>\n",
       "      <th>MONTHS_PAST_DEFAULT</th>\n",
       "      <th></th>\n",
       "      <th></th>\n",
       "      <th></th>\n",
       "      <th></th>\n",
       "      <th></th>\n",
       "      <th></th>\n",
       "      <th></th>\n",
       "    </tr>\n",
       "  </thead>\n",
       "  <tbody>\n",
       "    <tr>\n",
       "      <th>0</th>\n",
       "      <td>708930000.0</td>\n",
       "      <td>NaN</td>\n",
       "      <td>NaN</td>\n",
       "      <td>NaN</td>\n",
       "      <td>NaN</td>\n",
       "      <td>NaN</td>\n",
       "      <td>NaN</td>\n",
       "    </tr>\n",
       "    <tr>\n",
       "      <th>1</th>\n",
       "      <td>721780000.0</td>\n",
       "      <td>700858040.0</td>\n",
       "      <td>NaN</td>\n",
       "      <td>NaN</td>\n",
       "      <td>NaN</td>\n",
       "      <td>NaN</td>\n",
       "      <td>NaN</td>\n",
       "    </tr>\n",
       "    <tr>\n",
       "      <th>2</th>\n",
       "      <td>676197680.0</td>\n",
       "      <td>657479234.0</td>\n",
       "      <td>635803739.0</td>\n",
       "      <td>NaN</td>\n",
       "      <td>NaN</td>\n",
       "      <td>NaN</td>\n",
       "      <td>NaN</td>\n",
       "    </tr>\n",
       "    <tr>\n",
       "      <th>3</th>\n",
       "      <td>705906000.0</td>\n",
       "      <td>684776146.0</td>\n",
       "      <td>664699620.0</td>\n",
       "      <td>646675310.0</td>\n",
       "      <td>NaN</td>\n",
       "      <td>NaN</td>\n",
       "      <td>NaN</td>\n",
       "    </tr>\n",
       "    <tr>\n",
       "      <th>4</th>\n",
       "      <td>697650000.0</td>\n",
       "      <td>677569923.0</td>\n",
       "      <td>657200106.0</td>\n",
       "      <td>638066185.0</td>\n",
       "      <td>620003731.0</td>\n",
       "      <td>NaN</td>\n",
       "      <td>NaN</td>\n",
       "    </tr>\n",
       "    <tr>\n",
       "      <th>5</th>\n",
       "      <td>690886000.0</td>\n",
       "      <td>670980106.0</td>\n",
       "      <td>650141712.0</td>\n",
       "      <td>631199828.0</td>\n",
       "      <td>613500459.0</td>\n",
       "      <td>596658378.0</td>\n",
       "      <td>NaN</td>\n",
       "    </tr>\n",
       "    <tr>\n",
       "      <th>6</th>\n",
       "      <td>725780000.0</td>\n",
       "      <td>703148787.0</td>\n",
       "      <td>681992058.0</td>\n",
       "      <td>661459515.0</td>\n",
       "      <td>641162461.0</td>\n",
       "      <td>621924929.0</td>\n",
       "      <td>602339667.0</td>\n",
       "    </tr>\n",
       "  </tbody>\n",
       "</table>\n",
       "</div>"
      ],
      "text/plain": [
       "                          DEBT_0       DEBT_1       DEBT_2       DEBT_3  \\\n",
       "MONTHS_PAST_DEFAULT                                                       \n",
       "0                    708930000.0          NaN          NaN          NaN   \n",
       "1                    721780000.0  700858040.0          NaN          NaN   \n",
       "2                    676197680.0  657479234.0  635803739.0          NaN   \n",
       "3                    705906000.0  684776146.0  664699620.0  646675310.0   \n",
       "4                    697650000.0  677569923.0  657200106.0  638066185.0   \n",
       "5                    690886000.0  670980106.0  650141712.0  631199828.0   \n",
       "6                    725780000.0  703148787.0  681992058.0  661459515.0   \n",
       "\n",
       "                          DEBT_4       DEBT_5       DEBT_6  \n",
       "MONTHS_PAST_DEFAULT                                         \n",
       "0                            NaN          NaN          NaN  \n",
       "1                            NaN          NaN          NaN  \n",
       "2                            NaN          NaN          NaN  \n",
       "3                            NaN          NaN          NaN  \n",
       "4                    620003731.0          NaN          NaN  \n",
       "5                    613500459.0  596658378.0          NaN  \n",
       "6                    641162461.0  621924929.0  602339667.0  "
      ]
     },
     "execution_count": 15,
     "metadata": {},
     "output_type": "execute_result"
    }
   ],
   "source": [
    "data_gr"
   ]
  },
  {
   "cell_type": "code",
   "execution_count": 16,
   "metadata": {
    "id": "De94NSfsR8Nf"
   },
   "outputs": [],
   "source": [
    "def fill_data(data_, coefs):\n",
    "    for i in range(6):\n",
    "        data_[f'DEBT_{i+1}'] = data_.apply(lambda x: x[f'DEBT_{i}']*coefs[i] if np.isnan(x[f'DEBT_{i+1}']) else x[f'DEBT_{i+1}'], axis=1 )\n",
    "    return data_"
   ]
  },
  {
   "cell_type": "code",
   "execution_count": 17,
   "metadata": {
    "id": "mPW6WeebR8KL"
   },
   "outputs": [],
   "source": [
    "data_gr_filled = fill_data(data_ = data_gr.copy(),\n",
    "                           coefs = np.round(coefs, 5)\n",
    "                           )\n",
    "\n",
    "assert data_gr_filled.shape == (7, 7)\n",
    "assert round(data_gr_filled.sum().sum(), 5) == 31578683486.38918\n",
    "assert data_gr_filled.count().sum() == 49"
   ]
  },
  {
   "cell_type": "code",
   "execution_count": 18,
   "metadata": {
    "id": "7hZ2Y5cFXZlp"
   },
   "outputs": [
    {
     "data": {
      "text/html": [
       "<div>\n",
       "<style scoped>\n",
       "    .dataframe tbody tr th:only-of-type {\n",
       "        vertical-align: middle;\n",
       "    }\n",
       "\n",
       "    .dataframe tbody tr th {\n",
       "        vertical-align: top;\n",
       "    }\n",
       "\n",
       "    .dataframe thead th {\n",
       "        text-align: right;\n",
       "    }\n",
       "</style>\n",
       "<table border=\"1\" class=\"dataframe\">\n",
       "  <thead>\n",
       "    <tr style=\"text-align: right;\">\n",
       "      <th></th>\n",
       "      <th>DEBT_0</th>\n",
       "      <th>DEBT_1</th>\n",
       "      <th>DEBT_2</th>\n",
       "      <th>DEBT_3</th>\n",
       "      <th>DEBT_4</th>\n",
       "      <th>DEBT_5</th>\n",
       "      <th>DEBT_6</th>\n",
       "    </tr>\n",
       "    <tr>\n",
       "      <th>MONTHS_PAST_DEFAULT</th>\n",
       "      <th></th>\n",
       "      <th></th>\n",
       "      <th></th>\n",
       "      <th></th>\n",
       "      <th></th>\n",
       "      <th></th>\n",
       "      <th></th>\n",
       "    </tr>\n",
       "  </thead>\n",
       "  <tbody>\n",
       "    <tr>\n",
       "      <th>0</th>\n",
       "      <td>708930000.0</td>\n",
       "      <td>688193797.5</td>\n",
       "      <td>6.670800e+08</td>\n",
       "      <td>6.478214e+08</td>\n",
       "      <td>6.290087e+08</td>\n",
       "      <td>6.109184e+08</td>\n",
       "      <td>5.916806e+08</td>\n",
       "    </tr>\n",
       "    <tr>\n",
       "      <th>1</th>\n",
       "      <td>721780000.0</td>\n",
       "      <td>700858040.0</td>\n",
       "      <td>6.793557e+08</td>\n",
       "      <td>6.597427e+08</td>\n",
       "      <td>6.405838e+08</td>\n",
       "      <td>6.221606e+08</td>\n",
       "      <td>6.025688e+08</td>\n",
       "    </tr>\n",
       "    <tr>\n",
       "      <th>2</th>\n",
       "      <td>676197680.0</td>\n",
       "      <td>657479234.0</td>\n",
       "      <td>6.358037e+08</td>\n",
       "      <td>6.174481e+08</td>\n",
       "      <td>5.995174e+08</td>\n",
       "      <td>5.822753e+08</td>\n",
       "      <td>5.639394e+08</td>\n",
       "    </tr>\n",
       "    <tr>\n",
       "      <th>3</th>\n",
       "      <td>705906000.0</td>\n",
       "      <td>684776146.0</td>\n",
       "      <td>6.646996e+08</td>\n",
       "      <td>6.466753e+08</td>\n",
       "      <td>6.278959e+08</td>\n",
       "      <td>6.098376e+08</td>\n",
       "      <td>5.906338e+08</td>\n",
       "    </tr>\n",
       "    <tr>\n",
       "      <th>4</th>\n",
       "      <td>697650000.0</td>\n",
       "      <td>677569923.0</td>\n",
       "      <td>6.572001e+08</td>\n",
       "      <td>6.380662e+08</td>\n",
       "      <td>6.200037e+08</td>\n",
       "      <td>6.021724e+08</td>\n",
       "      <td>5.832100e+08</td>\n",
       "    </tr>\n",
       "    <tr>\n",
       "      <th>5</th>\n",
       "      <td>690886000.0</td>\n",
       "      <td>670980106.0</td>\n",
       "      <td>6.501417e+08</td>\n",
       "      <td>6.311998e+08</td>\n",
       "      <td>6.135005e+08</td>\n",
       "      <td>5.966584e+08</td>\n",
       "      <td>5.778696e+08</td>\n",
       "    </tr>\n",
       "    <tr>\n",
       "      <th>6</th>\n",
       "      <td>725780000.0</td>\n",
       "      <td>703148787.0</td>\n",
       "      <td>6.819921e+08</td>\n",
       "      <td>6.614595e+08</td>\n",
       "      <td>6.411625e+08</td>\n",
       "      <td>6.219249e+08</td>\n",
       "      <td>6.023397e+08</td>\n",
       "    </tr>\n",
       "  </tbody>\n",
       "</table>\n",
       "</div>"
      ],
      "text/plain": [
       "                          DEBT_0       DEBT_1        DEBT_2        DEBT_3  \\\n",
       "MONTHS_PAST_DEFAULT                                                         \n",
       "0                    708930000.0  688193797.5  6.670800e+08  6.478214e+08   \n",
       "1                    721780000.0  700858040.0  6.793557e+08  6.597427e+08   \n",
       "2                    676197680.0  657479234.0  6.358037e+08  6.174481e+08   \n",
       "3                    705906000.0  684776146.0  6.646996e+08  6.466753e+08   \n",
       "4                    697650000.0  677569923.0  6.572001e+08  6.380662e+08   \n",
       "5                    690886000.0  670980106.0  6.501417e+08  6.311998e+08   \n",
       "6                    725780000.0  703148787.0  6.819921e+08  6.614595e+08   \n",
       "\n",
       "                           DEBT_4        DEBT_5        DEBT_6  \n",
       "MONTHS_PAST_DEFAULT                                            \n",
       "0                    6.290087e+08  6.109184e+08  5.916806e+08  \n",
       "1                    6.405838e+08  6.221606e+08  6.025688e+08  \n",
       "2                    5.995174e+08  5.822753e+08  5.639394e+08  \n",
       "3                    6.278959e+08  6.098376e+08  5.906338e+08  \n",
       "4                    6.200037e+08  6.021724e+08  5.832100e+08  \n",
       "5                    6.135005e+08  5.966584e+08  5.778696e+08  \n",
       "6                    6.411625e+08  6.219249e+08  6.023397e+08  "
      ]
     },
     "execution_count": 18,
     "metadata": {},
     "output_type": "execute_result"
    }
   ],
   "source": [
    "data_gr_filled"
   ]
  },
  {
   "cell_type": "markdown",
   "metadata": {
    "id": "f5v6zC04Wav5"
   },
   "source": [
    "Средняя абсолютная ошибка долга по заполненным месяцам"
   ]
  },
  {
   "cell_type": "code",
   "execution_count": 19,
   "metadata": {
    "id": "--1YiROMR8Gq"
   },
   "outputs": [
    {
     "data": {
      "text/plain": [
       "0.0017274558453538337"
      ]
     },
     "execution_count": 19,
     "metadata": {},
     "output_type": "execute_result"
    }
   ],
   "source": [
    "abs((data_gr_filled - assert_data) / assert_data).sum().sum()/((data_gr_filled.shape[0]*data_gr_filled.shape[1] - data_gr_filled.shape[0])/2)"
   ]
  },
  {
   "cell_type": "markdown",
   "metadata": {
    "id": "NCEESvW0W0n2"
   },
   "source": [
    "Теперь можно рассчитать ожидаемый уровень LGD на горизонте 6 месяцев"
   ]
  },
  {
   "cell_type": "code",
   "execution_count": 20,
   "metadata": {
    "id": "QO0T46QBVbV8"
   },
   "outputs": [
    {
     "data": {
      "text/plain": [
       "0.8346341869033143"
      ]
     },
     "execution_count": 20,
     "metadata": {},
     "output_type": "execute_result"
    }
   ],
   "source": [
    "(data_gr_filled['DEBT_6'] / data_gr_filled['DEBT_0']).mean()"
   ]
  },
  {
   "cell_type": "code",
   "execution_count": null,
   "metadata": {},
   "outputs": [],
   "source": []
  }
 ],
 "metadata": {
  "colab": {
   "collapsed_sections": [],
   "name": "Notebook_5_task_sirius_22.ipynb",
   "provenance": []
  },
  "kernelspec": {
   "display_name": "Python 3",
   "language": "python",
   "name": "python3"
  },
  "language_info": {
   "codemirror_mode": {
    "name": "ipython",
    "version": 3
   },
   "file_extension": ".py",
   "mimetype": "text/x-python",
   "name": "python",
   "nbconvert_exporter": "python",
   "pygments_lexer": "ipython3",
   "version": "3.8.5"
  }
 },
 "nbformat": 4,
 "nbformat_minor": 4
}
