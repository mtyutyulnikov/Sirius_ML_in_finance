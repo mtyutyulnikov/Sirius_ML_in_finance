{
 "cells": [
  {
   "cell_type": "code",
   "execution_count": 1,
   "metadata": {
    "id": "Vt3OwunambaG"
   },
   "outputs": [],
   "source": [
    "# # Авторизация гугл диска\n",
    "# from google.colab import drive\n",
    "# drive.mount('/content/drive')"
   ]
  },
  {
   "cell_type": "code",
   "execution_count": 2,
   "metadata": {
    "id": "lXy1mmQO2FeA"
   },
   "outputs": [],
   "source": [
    "# # Здесь укажите путь к папке с ноутбуком и датасетом на гугл диске\n",
    "# %cd  /content/drive/"
   ]
  },
  {
   "cell_type": "code",
   "execution_count": 3,
   "metadata": {
    "id": "r24Ge40hhTh3"
   },
   "outputs": [],
   "source": [
    "import numpy as np\n",
    "import pandas as pd\n",
    "import datetime as dt\n",
    "import matplotlib.pyplot as plt\n",
    "import itertools\n",
    "\n",
    "\n",
    "import warnings\n",
    "warnings.filterwarnings(\"ignore\")"
   ]
  },
  {
   "cell_type": "code",
   "execution_count": 4,
   "metadata": {
    "id": "fxy64QREncRg"
   },
   "outputs": [
    {
     "data": {
      "text/html": [
       "<div>\n",
       "<style scoped>\n",
       "    .dataframe tbody tr th:only-of-type {\n",
       "        vertical-align: middle;\n",
       "    }\n",
       "\n",
       "    .dataframe tbody tr th {\n",
       "        vertical-align: top;\n",
       "    }\n",
       "\n",
       "    .dataframe thead th {\n",
       "        text-align: right;\n",
       "    }\n",
       "</style>\n",
       "<table border=\"1\" class=\"dataframe\">\n",
       "  <thead>\n",
       "    <tr style=\"text-align: right;\">\n",
       "      <th></th>\n",
       "      <th>ID</th>\n",
       "      <th>MONTHS_BALANCE</th>\n",
       "      <th>STATUS</th>\n",
       "    </tr>\n",
       "  </thead>\n",
       "  <tbody>\n",
       "    <tr>\n",
       "      <th>0</th>\n",
       "      <td>5001711</td>\n",
       "      <td>0</td>\n",
       "      <td>X</td>\n",
       "    </tr>\n",
       "    <tr>\n",
       "      <th>1</th>\n",
       "      <td>5001711</td>\n",
       "      <td>-1</td>\n",
       "      <td>0</td>\n",
       "    </tr>\n",
       "    <tr>\n",
       "      <th>2</th>\n",
       "      <td>5001711</td>\n",
       "      <td>-2</td>\n",
       "      <td>0</td>\n",
       "    </tr>\n",
       "    <tr>\n",
       "      <th>3</th>\n",
       "      <td>5001711</td>\n",
       "      <td>-3</td>\n",
       "      <td>0</td>\n",
       "    </tr>\n",
       "    <tr>\n",
       "      <th>4</th>\n",
       "      <td>5001712</td>\n",
       "      <td>0</td>\n",
       "      <td>C</td>\n",
       "    </tr>\n",
       "  </tbody>\n",
       "</table>\n",
       "</div>"
      ],
      "text/plain": [
       "        ID  MONTHS_BALANCE STATUS\n",
       "0  5001711               0      X\n",
       "1  5001711              -1      0\n",
       "2  5001711              -2      0\n",
       "3  5001711              -3      0\n",
       "4  5001712               0      C"
      ]
     },
     "execution_count": 4,
     "metadata": {},
     "output_type": "execute_result"
    }
   ],
   "source": [
    "# Загрузка датасета\n",
    "credit_data = pd.read_csv('./data_1_in.csv')\n",
    "credit_data.head()"
   ]
  },
  {
   "cell_type": "markdown",
   "metadata": {
    "id": "-m4h5ugFhTiB"
   },
   "source": [
    "# Обработка таблицы с платежеспособностью"
   ]
  },
  {
   "cell_type": "markdown",
   "metadata": {
    "id": "PGMSXQfdJx6f"
   },
   "source": [
    "> Описание полей таблицы:\n",
    "* ID - Идентификатор клиента\t\n",
    "* MONTHS_BALANCE - Номер месяца жизни договора, отсчитывается от текущего: 0 - текущий, -1 предыдущий и т.д. \n",
    "* STATUS - Статус договора:\n",
    "> * 0: 1-29 дней в просрочке\n",
    "> * 1: 30-59 дней в просрочке  \n",
    "> * 2: 60-89 дней в просрочке  \n",
    "> * 3: 90-119 дней в просрочке  \n",
    "> * 4: 120-149 дней в просрочке  \n",
    "> * 5: Просрочка 150 и более дней  \n",
    "> * C: совершен платеж в отчетном месяце \n",
    "> * X: в отчетном месяце нет кредитного договора\n",
    "\n",
    "> Стоит отметить, что в данной задаче у одного клиента может быть только один кредитный договор, если у клиента несколько кредитных договоров, то необходимо проводить их агрегацию с точки зрения просрочки. Чаще всего из текущих просрочек по всем действующим договорам выбирается максимальная просрочка."
   ]
  },
  {
   "cell_type": "markdown",
   "metadata": {
    "id": "LMla2LuPoYjt"
   },
   "source": [
    "Дополним таблицу с платежами столбцами с числовым статусом кредитного договора и флагом дефолта."
   ]
  },
  {
   "cell_type": "code",
   "execution_count": 5,
   "metadata": {
    "id": "c3bncMoxhTiC"
   },
   "outputs": [],
   "source": [
    "max_days_delay = 3\n",
    "\n",
    "dict_status = {'X' : -2,\n",
    "               'C' : -1,\n",
    "               '0' : 0,\n",
    "               '1' : 1,\n",
    "               '2' : 2,\n",
    "               '3' : 3,\n",
    "               '4' : 4,\n",
    "               '5' : 5\n",
    "              }\n",
    "credit_data['STATUS_NUM'] = credit_data['STATUS'].apply(lambda x: dict_status[x])\n",
    "credit_data['CUR_DEFAULT'] = credit_data['STATUS_NUM'].apply(lambda x: int(x >= max_days_delay))"
   ]
  },
  {
   "cell_type": "code",
   "execution_count": 6,
   "metadata": {
    "id": "bWvDrrJJvzWL"
   },
   "outputs": [
    {
     "data": {
      "text/html": [
       "<div>\n",
       "<style scoped>\n",
       "    .dataframe tbody tr th:only-of-type {\n",
       "        vertical-align: middle;\n",
       "    }\n",
       "\n",
       "    .dataframe tbody tr th {\n",
       "        vertical-align: top;\n",
       "    }\n",
       "\n",
       "    .dataframe thead th {\n",
       "        text-align: right;\n",
       "    }\n",
       "</style>\n",
       "<table border=\"1\" class=\"dataframe\">\n",
       "  <thead>\n",
       "    <tr style=\"text-align: right;\">\n",
       "      <th></th>\n",
       "      <th>ID</th>\n",
       "      <th>MONTHS_BALANCE</th>\n",
       "      <th>STATUS</th>\n",
       "      <th>STATUS_NUM</th>\n",
       "      <th>CUR_DEFAULT</th>\n",
       "    </tr>\n",
       "  </thead>\n",
       "  <tbody>\n",
       "    <tr>\n",
       "      <th>0</th>\n",
       "      <td>5001711</td>\n",
       "      <td>0</td>\n",
       "      <td>X</td>\n",
       "      <td>-2</td>\n",
       "      <td>0</td>\n",
       "    </tr>\n",
       "    <tr>\n",
       "      <th>1</th>\n",
       "      <td>5001711</td>\n",
       "      <td>-1</td>\n",
       "      <td>0</td>\n",
       "      <td>0</td>\n",
       "      <td>0</td>\n",
       "    </tr>\n",
       "    <tr>\n",
       "      <th>2</th>\n",
       "      <td>5001711</td>\n",
       "      <td>-2</td>\n",
       "      <td>0</td>\n",
       "      <td>0</td>\n",
       "      <td>0</td>\n",
       "    </tr>\n",
       "    <tr>\n",
       "      <th>3</th>\n",
       "      <td>5001711</td>\n",
       "      <td>-3</td>\n",
       "      <td>0</td>\n",
       "      <td>0</td>\n",
       "      <td>0</td>\n",
       "    </tr>\n",
       "    <tr>\n",
       "      <th>4</th>\n",
       "      <td>5001712</td>\n",
       "      <td>0</td>\n",
       "      <td>C</td>\n",
       "      <td>-1</td>\n",
       "      <td>0</td>\n",
       "    </tr>\n",
       "  </tbody>\n",
       "</table>\n",
       "</div>"
      ],
      "text/plain": [
       "        ID  MONTHS_BALANCE STATUS  STATUS_NUM  CUR_DEFAULT\n",
       "0  5001711               0      X          -2            0\n",
       "1  5001711              -1      0           0            0\n",
       "2  5001711              -2      0           0            0\n",
       "3  5001711              -3      0           0            0\n",
       "4  5001712               0      C          -1            0"
      ]
     },
     "execution_count": 6,
     "metadata": {},
     "output_type": "execute_result"
    }
   ],
   "source": [
    "# наша стартовая таблица\n",
    "credit_data.head()"
   ]
  },
  {
   "cell_type": "code",
   "execution_count": 7,
   "metadata": {},
   "outputs": [
    {
     "data": {
      "text/plain": [
       "(1048575, 5)"
      ]
     },
     "execution_count": 7,
     "metadata": {},
     "output_type": "execute_result"
    }
   ],
   "source": [
    "credit_data.shape"
   ]
  },
  {
   "cell_type": "markdown",
   "metadata": {
    "id": "XPnvuGmFhTiD"
   },
   "source": [
    "# Task 1. Построение винтажного анализа."
   ]
  },
  {
   "cell_type": "markdown",
   "metadata": {
    "id": "orBB1EPolgkB"
   },
   "source": [
    "Винтажный анализ позволяет отслеживать состояние кредитного портфеля по поколениям выдач. Поколение можно выделить временными ограничениями (к примеру, одно поколение - все выдачи одного месяца) или причинными эпохами (к примеру, выдачи после внедрения изменений в процесс кредитования или выдачи в кризисный период).\n",
    "\n",
    "В нашем примере поколения будем выделать помесячно.\n",
    "\n",
    "Задание\n",
    "Напишите функцию, которая сформирует DataFrame со следующим набором полей:\n",
    "*  ID - уникальный номер клиента\n",
    "*  MONTHS_BALANCE - текущий месяц\n",
    "*  STATUS - статус платежа клиента в текущем месяце\n",
    "*  STATUS_NUM - статус платежа в числовой шкале\n",
    "*  CUR_DEFAULT - флаг нахождения клиента в дефолте на истории.\n",
    "\n",
    "Алгоритм формирования поля CUR_DEFAULT:\n",
    "*  Если клиент хотя бы раз уходил в дефолт, то флаг для месяца дефолта и всех последующих месяцев принимает значение 1, включая известную историю (0 исходной таблицы меняется на 1 для всех месяцев после первого дефолта);\n",
    "* Если клиент ни разу не уходил в дефолт, то флаг принимает значение 0 для всех месяцев, по которым нам известна история и последующих;\n",
    "* Для месяцев, когда нам неизвестна информация о клиенте, флаг принимает значение NaN (Прошлое для всех клиентов не заполняем)\n",
    "\n",
    "При формировании таблицы следует учесть следующее:\n",
    "\n",
    "* В датафрейме по сделке должны храниться записи по всем месяцам, начиная от месяца, задаваемого параметром функции, до текущего. Стоит отметить, что в таблице credit_data необязательно есть информация по требуемым месяцам;\n",
    "* Для строк с 'дополненными' месяцами поля STATUS и STATUS_NUM должны принимать значение NaN\n",
    "\n",
    "Требуемая таблица формируется функцией.\n",
    "На вход функция принимает:\n",
    "* Таблицу со статусами платежей по клиентам (credit_data)\n",
    "* Ранжированный нумерной список месяцев, для которых необходимо собрать данные\n"
   ]
  },
  {
   "cell_type": "code",
   "execution_count": 10,
   "metadata": {
    "id": "ZbkuxLxH5wyQ"
   },
   "outputs": [],
   "source": [
    "def make_vintage_table(input_data, time_list):\n",
    "    t = pd.DataFrame(itertools.product(set(input_data['ID']), time_list), columns=['ID', 'MONTHS_BALANCE'])\n",
    "    df = pd.DataFrame(data=input_data)\n",
    "    df = df.merge(t, how='outer', on=['ID', 'MONTHS_BALANCE'])\n",
    "    \n",
    "    non_default_ids = set(df['ID']) - set(df[df['CUR_DEFAULT'] == 1]['ID'])\n",
    "    \n",
    "    available_months = input_data.groupby('ID')['MONTHS_BALANCE'].min()\n",
    "    \n",
    "    df = df.set_index(['ID', 'MONTHS_BALANCE'])\n",
    "    \n",
    "    default_ids = df['CUR_DEFAULT'] == 1\n",
    "    default_ids = df[default_ids].index\n",
    "        \n",
    "    defaults_dict = dict(default_ids)\n",
    "\n",
    "#     for i, j in default_ids:\n",
    "#         if i not in defaults_dict:\n",
    "#             defaults_dict[i] = j\n",
    "#         elif j<defaults_dict[i]:\n",
    "#             defaults_dict[i] = j\n",
    "            \n",
    "    indexes_1 = [(i, j) for i in defaults_dict.keys() for j in range(0, defaults_dict[i]-1, -1)]\n",
    "    indexes_0 = [(i, j) for i in non_default_ids for j in range(0, available_months[i]-1, -1)]    \n",
    "    \n",
    "    df.loc[indexes_1, 'CUR_DEFAULT'] = 1\n",
    "    df.loc[indexes_0, 'CUR_DEFAULT'] = 0\n",
    "\n",
    "    return df.reset_index()\n",
    "    "
   ]
  },
  {
   "cell_type": "code",
   "execution_count": 11,
   "metadata": {
    "id": "5bD-8c6QHCdz"
   },
   "outputs": [],
   "source": [
    "credit_data_vin = make_vintage_table(input_data=credit_data.copy(), time_list=range(0, -61, -1))\n",
    "\n",
    "assert credit_data_vin.shape == (2805085, 5)\n",
    "assert set(credit_data_vin.columns) == {'CUR_DEFAULT','ID','MONTHS_BALANCE','STATUS','STATUS_NUM'}\n",
    "assert credit_data_vin['MONTHS_BALANCE'].sum() == -84152550\n",
    "assert credit_data_vin['STATUS_NUM'].sum() == -837348\n",
    "assert credit_data_vin[credit_data_vin['CUR_DEFAULT'].isna()].shape == (1543556, 5)"
   ]
  },
  {
   "cell_type": "markdown",
   "metadata": {
    "id": "xrGEPiVMRYKF"
   },
   "source": [
    "Используя таблицу для винтажного анализа, отобразим винтажи для временных срезов: -40, -45, -50, -55"
   ]
  },
  {
   "cell_type": "code",
   "execution_count": 12,
   "metadata": {
    "id": "kZR3rwg5H4Vc"
   },
   "outputs": [
    {
     "data": {
      "image/png": "[encoded data removed]",
      "text/plain": [
       "<Figure size 720x576 with 1 Axes>"
      ]
     },
     "metadata": {
      "needs_background": "light"
     },
     "output_type": "display_data"
    }
   ],
   "source": [
    "start_month = -60\n",
    "\n",
    "fig, ax = plt.subplots(figsize=(10,8))\n",
    "plt.title('Винтажный анализ')\n",
    "\n",
    "def_rate_list = []\n",
    "for start_month in range(-40, -60, -5):\n",
    "    start_id = credit_data_vin[(credit_data_vin['CUR_DEFAULT']==0) & (credit_data_vin['MONTHS_BALANCE']==start_month)]['ID'].drop_duplicates()\n",
    "    temp_df = credit_data_vin[(credit_data_vin['ID'].isin(start_id))&(credit_data_vin['MONTHS_BALANCE']>=start_month)].groupby('MONTHS_BALANCE')['CUR_DEFAULT'].agg(['mean', 'sum']).rename(columns={'mean' : 'DEFAULT_RATE', 'sum' : 'QNT_DEFAULTES'}).reset_index()\n",
    "    plt.plot(range(temp_df.shape[0]), temp_df['DEFAULT_RATE'], label=f'Start point = {start_month}')\n",
    "    def_rate_list.append(max(temp_df['QNT_DEFAULTES'])*0.8/len(start_id))\n",
    "    \n",
    "plt.axhline(max(def_rate_list), ls='-.')\n",
    "plt.axhline(min(def_rate_list), ls='-.')\n",
    "plt.xlabel('Месяц наблюдения от начала')\n",
    "plt.ylabel('Уровень дефолта')\n",
    "plt.legend()\n",
    "plt.show()"
   ]
  },
  {
   "cell_type": "markdown",
   "metadata": {
    "id": "4eT0uDdmSmfD"
   },
   "source": [
    "> На графике пунктирными линиями отделены диапазоны, в которых находятся 80% всех дефолтов (для соотвествующего поколения).\n",
    "\n",
    "> Начиная с определенного месяца наблюдения винтажи выходят на плато. Исходя из этих соображений, в качестве горизонта наблюдения, в данном случае, может быть выбран горизонт равный 15 месяцам."
   ]
  },
  {
   "cell_type": "code",
   "execution_count": 13,
   "metadata": {
    "id": "8ahOyHG_hTiD"
   },
   "outputs": [],
   "source": [
    "# credit_data_vin[credit_data_vin['ID']==5149192].head(60)"
   ]
  },
  {
   "cell_type": "code",
   "execution_count": 14,
   "metadata": {
    "id": "pTE0enFphTiE"
   },
   "outputs": [],
   "source": [
    "# credit_data_vin[credit_data_vin['ID']==5150482].head(60)"
   ]
  },
  {
   "cell_type": "markdown",
   "metadata": {
    "id": "xpGOf5VxhTiJ"
   },
   "source": [
    "# Task 2. Формирование витрины целевого события."
   ]
  },
  {
   "cell_type": "markdown",
   "metadata": {
    "id": "jS69JB42h1JF"
   },
   "source": [
    "> Напишите функцию, которая на основе данных о платежах клиентов, сформирует таблицу с целевым событием для каждого платежа клиента на выбранном горизонте.\n",
    "\n",
    "> Горизонт наблюдения - кол-во месяцев, начиная с рассматриваемого, на протяжении которых мы отслеживаем факт дефолта по клиенту.\n",
    "\n",
    "> Целевым событием называется факт выхода клиента в дефолт на рассматриваемом горизонте.\n",
    "\n",
    "> При формировании таблицы целевое событие определяется для каждой записи за исключением:\n",
    "* Месяцев, первого дефолта и последующих (Наблюдений, которые уже побывали в дефолте хотя бы раз);\n",
    "* Месяцев, для которых мы не можем собрать целевое событие (т.е. исключаем записи, для которых 'не набирается' горизонт события) \n",
    "\n",
    "> Описание функции:\n",
    "* На вход принимает:\n",
    "1. Таблицу со статусами платежей по клиентам (credit_data)\n",
    "2. Длину горизонта наблюдения\n",
    "* Возвращает pandas DataFrame со следующими столбцами:\n",
    "1. ID - уникальный номер клиента\t\n",
    "2. MONTHS_BALANCE - текущий месяц\n",
    "3. STATUS - статус платежа клиента в текущем месяце\n",
    "4. STATUS_NUM - статус платежа в числовой шкале\n",
    "5. CUR_DEFAULT - флаг нахождения клиента в дефолте в текущем месяце\n",
    "6. DEFAULT - флаг вхождения клиента в дефолт на горизонте наблюдения\n"
   ]
  },
  {
   "cell_type": "code",
   "execution_count": 15,
   "metadata": {},
   "outputs": [
    {
     "data": {
      "text/html": [
       "<div>\n",
       "<style scoped>\n",
       "    .dataframe tbody tr th:only-of-type {\n",
       "        vertical-align: middle;\n",
       "    }\n",
       "\n",
       "    .dataframe tbody tr th {\n",
       "        vertical-align: top;\n",
       "    }\n",
       "\n",
       "    .dataframe thead th {\n",
       "        text-align: right;\n",
       "    }\n",
       "</style>\n",
       "<table border=\"1\" class=\"dataframe\">\n",
       "  <thead>\n",
       "    <tr style=\"text-align: right;\">\n",
       "      <th></th>\n",
       "      <th>ID</th>\n",
       "      <th>MONTHS_BALANCE</th>\n",
       "      <th>STATUS</th>\n",
       "      <th>STATUS_NUM</th>\n",
       "      <th>CUR_DEFAULT</th>\n",
       "    </tr>\n",
       "  </thead>\n",
       "  <tbody>\n",
       "    <tr>\n",
       "      <th>1029834</th>\n",
       "      <td>5149192</td>\n",
       "      <td>-43</td>\n",
       "      <td>5</td>\n",
       "      <td>5</td>\n",
       "      <td>1</td>\n",
       "    </tr>\n",
       "    <tr>\n",
       "      <th>1029835</th>\n",
       "      <td>5149192</td>\n",
       "      <td>-44</td>\n",
       "      <td>5</td>\n",
       "      <td>5</td>\n",
       "      <td>1</td>\n",
       "    </tr>\n",
       "    <tr>\n",
       "      <th>1029836</th>\n",
       "      <td>5149192</td>\n",
       "      <td>-45</td>\n",
       "      <td>5</td>\n",
       "      <td>5</td>\n",
       "      <td>1</td>\n",
       "    </tr>\n",
       "    <tr>\n",
       "      <th>1029837</th>\n",
       "      <td>5149192</td>\n",
       "      <td>-46</td>\n",
       "      <td>5</td>\n",
       "      <td>5</td>\n",
       "      <td>1</td>\n",
       "    </tr>\n",
       "    <tr>\n",
       "      <th>1029838</th>\n",
       "      <td>5149192</td>\n",
       "      <td>-47</td>\n",
       "      <td>5</td>\n",
       "      <td>5</td>\n",
       "      <td>1</td>\n",
       "    </tr>\n",
       "    <tr>\n",
       "      <th>1029839</th>\n",
       "      <td>5149192</td>\n",
       "      <td>-48</td>\n",
       "      <td>5</td>\n",
       "      <td>5</td>\n",
       "      <td>1</td>\n",
       "    </tr>\n",
       "    <tr>\n",
       "      <th>1029840</th>\n",
       "      <td>5149192</td>\n",
       "      <td>-49</td>\n",
       "      <td>5</td>\n",
       "      <td>5</td>\n",
       "      <td>1</td>\n",
       "    </tr>\n",
       "    <tr>\n",
       "      <th>1029841</th>\n",
       "      <td>5149192</td>\n",
       "      <td>-50</td>\n",
       "      <td>5</td>\n",
       "      <td>5</td>\n",
       "      <td>1</td>\n",
       "    </tr>\n",
       "    <tr>\n",
       "      <th>1029842</th>\n",
       "      <td>5149192</td>\n",
       "      <td>-51</td>\n",
       "      <td>5</td>\n",
       "      <td>5</td>\n",
       "      <td>1</td>\n",
       "    </tr>\n",
       "    <tr>\n",
       "      <th>1029843</th>\n",
       "      <td>5149192</td>\n",
       "      <td>-52</td>\n",
       "      <td>5</td>\n",
       "      <td>5</td>\n",
       "      <td>1</td>\n",
       "    </tr>\n",
       "    <tr>\n",
       "      <th>1029844</th>\n",
       "      <td>5149192</td>\n",
       "      <td>-53</td>\n",
       "      <td>5</td>\n",
       "      <td>5</td>\n",
       "      <td>1</td>\n",
       "    </tr>\n",
       "    <tr>\n",
       "      <th>1029845</th>\n",
       "      <td>5149192</td>\n",
       "      <td>-54</td>\n",
       "      <td>0</td>\n",
       "      <td>0</td>\n",
       "      <td>0</td>\n",
       "    </tr>\n",
       "    <tr>\n",
       "      <th>1029846</th>\n",
       "      <td>5149192</td>\n",
       "      <td>-55</td>\n",
       "      <td>0</td>\n",
       "      <td>0</td>\n",
       "      <td>0</td>\n",
       "    </tr>\n",
       "  </tbody>\n",
       "</table>\n",
       "</div>"
      ],
      "text/plain": [
       "              ID  MONTHS_BALANCE STATUS  STATUS_NUM  CUR_DEFAULT\n",
       "1029834  5149192             -43      5           5            1\n",
       "1029835  5149192             -44      5           5            1\n",
       "1029836  5149192             -45      5           5            1\n",
       "1029837  5149192             -46      5           5            1\n",
       "1029838  5149192             -47      5           5            1\n",
       "1029839  5149192             -48      5           5            1\n",
       "1029840  5149192             -49      5           5            1\n",
       "1029841  5149192             -50      5           5            1\n",
       "1029842  5149192             -51      5           5            1\n",
       "1029843  5149192             -52      5           5            1\n",
       "1029844  5149192             -53      5           5            1\n",
       "1029845  5149192             -54      0           0            0\n",
       "1029846  5149192             -55      0           0            0"
      ]
     },
     "execution_count": 15,
     "metadata": {},
     "output_type": "execute_result"
    }
   ],
   "source": [
    "credit_data[credit_data['ID'] == 5149192]"
   ]
  },
  {
   "cell_type": "code",
   "execution_count": 16,
   "metadata": {
    "id": "5Apv0RgRh0YC"
   },
   "outputs": [],
   "source": [
    "def make_target_table(input_data, horizon):\n",
    "    df = input_data\n",
    "    max_months = df.groupby('ID')['MONTHS_BALANCE'].max()\n",
    "    min_months = df.groupby('ID')['MONTHS_BALANCE'].min()\n",
    "    \n",
    "    default_clients = set(df[df['CUR_DEFAULT'] == 1]['ID'])\n",
    "\n",
    "    df = df.set_index(['ID', 'MONTHS_BALANCE'])\n",
    "    df['DEFAULT'] = 0\n",
    "    for client_id in default_clients:\n",
    "        default_flag = False\n",
    "        for month in range(min_months[client_id], max_months[client_id]+1):\n",
    "            if default_flag:\n",
    "                df.loc[(client_id, month), 'DEFAULT'] = np.nan\n",
    "                continue\n",
    "                \n",
    "            if df.loc[(client_id, month), 'CUR_DEFAULT'] == 1:\n",
    "                default_flag = True\n",
    "                df.loc[(client_id, month), 'DEFAULT'] = np.nan\n",
    "                continue\n",
    "            \n",
    "            if month+horizon > max_months[client_id]:\n",
    "                df.loc[(client_id, month), 'DEFAULT'] = np.nan\n",
    "                continue \n",
    "                \n",
    "            if 1 in [df.loc[(client_id, month+hor), 'CUR_DEFAULT'] for hor in range(1, horizon+1)]:\n",
    "                df.loc[(client_id, month), 'DEFAULT'] = 1\n",
    "                \n",
    "    non_default_clients = set(input_data['ID']) - default_clients\n",
    "    \n",
    "    drop_indexes = [(i,j) for i in non_default_clients for j in range(max(max_months[i]-horizon+1, min_months[i]), max_months[i]+1)]\n",
    "    df.loc[drop_indexes, 'DEFAULT'] = np.nan\n",
    "    \n",
    "    return df.dropna().reset_index()"
   ]
  },
  {
   "cell_type": "code",
   "execution_count": 17,
   "metadata": {
    "id": "tgWKZYn3nLFF"
   },
   "outputs": [],
   "source": [
    "credit_data_tar = make_target_table(input_data=credit_data.copy(), horizon=6)\n",
    "\n",
    "assert credit_data_tar.shape == (780417, 6)\n",
    "assert set(credit_data_tar.columns) == {'CUR_DEFAULT', 'DEFAULT', 'ID', 'MONTHS_BALANCE', 'STATUS', 'STATUS_NUM'}\n",
    "assert credit_data_tar['MONTHS_BALANCE'].sum() == -18124141\n",
    "assert credit_data_tar['STATUS_NUM'].sum() == -623532\n",
    "assert credit_data_tar[credit_data_tar['CUR_DEFAULT'].isna()].shape == (0, 6)\n",
    "assert credit_data_tar['CUR_DEFAULT'].sum() == 0\n",
    "assert credit_data_tar['DEFAULT'].sum() == 1668 "
   ]
  },
  {
   "cell_type": "code",
   "execution_count": 18,
   "metadata": {
    "id": "jPv0fYh8ev6_"
   },
   "outputs": [],
   "source": [
    "# credit_data[credit_data['ID']==5150482].head(60)"
   ]
  },
  {
   "cell_type": "code",
   "execution_count": 19,
   "metadata": {
    "id": "wZAn-HjwcEAi"
   },
   "outputs": [],
   "source": [
    "# credit_data[credit_data['ID']==5149838].head(60)"
   ]
  },
  {
   "cell_type": "markdown",
   "metadata": {
    "id": "qfdDdFBLhTiL"
   },
   "source": [
    "# Task 3. Проведение roll-rate анализа."
   ]
  },
  {
   "cell_type": "markdown",
   "metadata": {
    "id": "-gfm2_NTsCMT"
   },
   "source": [
    "> Напишите функцию, которая на основе витрины реализованной в п.2, формирует таблицу с информацией о среднем уровне дефолта клиентов в разрезе бакетов просрочки (STATUS) и возрастной группы кредитного договора.\n",
    "\n",
    "> Возрастная группа кредитного договора определяется месяцем жизни кредитного договора в разбивке на несколько бинов. К примеру, если в таблице-источнике по договору есть записи от -20 до -5 месяцев жизни, то каждая запись будет попадать в один из 2х бинов: [-20; -10), [-10; 0) соответсвенно.\n",
    "\n",
    "> Рассмотрим пример расчета уровня дефолта в бакете просрочки '0' и возрастной группе [-10;0):\n",
    "1. Отберем из таблицы источника все записи, у которых STATUS принимает значение '0' в возрастной группе [-10;0)\n",
    "2. Уровень дефолта будет определяться как отношение кол-ва месяцев, когда клиенты были в дефолте к общему кол-ву месяцев из выборки выше.   \n",
    "\n",
    "> Описание функции.\n",
    "\n",
    "> На вход принимает:\n",
    "1. Таблицу с целевым событием на горизонте (credit_data_tar)\n",
    "2. Начало временного периода (start_date)\n",
    "3. Конец временного периода (end_date)\n",
    "4. Длина одного временного среза (period_length)\n",
    "\n",
    "> Возвращает удобную для просмотра сводную таблицу в формате pandas DataFrame:\n",
    "* где названия столбцов совпадают с уникальными значениями в поле STATUS, а для отображения уровня дефолта в разрезе возрастной группы добавляется столбец PERIOD.\t\n",
    "* столбец PERIOD - возрастная группа вида [a, b), где a - дата начала возрастной группы (включительно), b - конец возрастной группы (не включительно)\n",
    "* на пересечении бакета просрочки и возрастной группы находится средний уровень дефолта"
   ]
  },
  {
   "cell_type": "code",
   "execution_count": 20,
   "metadata": {
    "id": "xMvbtjRUsCkZ"
   },
   "outputs": [],
   "source": [
    "def make_rollrate_table(input_data, start_date, end_date, period_length):\n",
    "    df = input_data\n",
    "    intervals = np.arange(start_date, end_date+1, period_length)\n",
    "    df['PERIOD'] = pd.cut(df['MONTHS_BALANCE'], intervals, right=False)\n",
    "\n",
    "    res = df.groupby(['STATUS', 'PERIOD'])['DEFAULT'].sum() / df.groupby(['STATUS', 'PERIOD'])['DEFAULT'].size()\n",
    "    \n",
    "    res = res.unstack(level=0).reset_index()\n",
    "    res['PERIOD'] = res['PERIOD'].astype(str)\n",
    "    return res\n",
    "    "
   ]
  },
  {
   "cell_type": "code",
   "execution_count": 21,
   "metadata": {
    "id": "WddKJWUBuLVr"
   },
   "outputs": [
    {
     "data": {
      "text/html": [
       "<div>\n",
       "<style scoped>\n",
       "    .dataframe tbody tr th:only-of-type {\n",
       "        vertical-align: middle;\n",
       "    }\n",
       "\n",
       "    .dataframe tbody tr th {\n",
       "        vertical-align: top;\n",
       "    }\n",
       "\n",
       "    .dataframe thead th {\n",
       "        text-align: right;\n",
       "    }\n",
       "</style>\n",
       "<table border=\"1\" class=\"dataframe\">\n",
       "  <thead>\n",
       "    <tr style=\"text-align: right;\">\n",
       "      <th>STATUS</th>\n",
       "      <th>PERIOD</th>\n",
       "      <th>0</th>\n",
       "      <th>1</th>\n",
       "      <th>2</th>\n",
       "      <th>C</th>\n",
       "      <th>X</th>\n",
       "    </tr>\n",
       "  </thead>\n",
       "  <tbody>\n",
       "    <tr>\n",
       "      <th>0</th>\n",
       "      <td>[-60, -48)</td>\n",
       "      <td>0.004580</td>\n",
       "      <td>0.071984</td>\n",
       "      <td>0.541667</td>\n",
       "      <td>0.0</td>\n",
       "      <td>0.004722</td>\n",
       "    </tr>\n",
       "    <tr>\n",
       "      <th>1</th>\n",
       "      <td>[-48, -36)</td>\n",
       "      <td>0.004265</td>\n",
       "      <td>0.054159</td>\n",
       "      <td>0.456250</td>\n",
       "      <td>0.0</td>\n",
       "      <td>0.001620</td>\n",
       "    </tr>\n",
       "    <tr>\n",
       "      <th>2</th>\n",
       "      <td>[-36, -24)</td>\n",
       "      <td>0.002486</td>\n",
       "      <td>0.050251</td>\n",
       "      <td>0.400000</td>\n",
       "      <td>0.0</td>\n",
       "      <td>0.000577</td>\n",
       "    </tr>\n",
       "    <tr>\n",
       "      <th>3</th>\n",
       "      <td>[-24, -12)</td>\n",
       "      <td>0.002233</td>\n",
       "      <td>0.026415</td>\n",
       "      <td>0.362245</td>\n",
       "      <td>0.0</td>\n",
       "      <td>0.000785</td>\n",
       "    </tr>\n",
       "    <tr>\n",
       "      <th>4</th>\n",
       "      <td>[-12, 0)</td>\n",
       "      <td>0.002779</td>\n",
       "      <td>0.035192</td>\n",
       "      <td>0.438596</td>\n",
       "      <td>0.0</td>\n",
       "      <td>0.000749</td>\n",
       "    </tr>\n",
       "  </tbody>\n",
       "</table>\n",
       "</div>"
      ],
      "text/plain": [
       "STATUS      PERIOD         0         1         2    C         X\n",
       "0       [-60, -48)  0.004580  0.071984  0.541667  0.0  0.004722\n",
       "1       [-48, -36)  0.004265  0.054159  0.456250  0.0  0.001620\n",
       "2       [-36, -24)  0.002486  0.050251  0.400000  0.0  0.000577\n",
       "3       [-24, -12)  0.002233  0.026415  0.362245  0.0  0.000785\n",
       "4         [-12, 0)  0.002779  0.035192  0.438596  0.0  0.000749"
      ]
     },
     "metadata": {},
     "output_type": "display_data"
    }
   ],
   "source": [
    "roll_rate_data = make_rollrate_table(input_data=credit_data_tar.copy(), start_date=-60, end_date=0, period_length=12)\n",
    "display(roll_rate_data)\n",
    "assert roll_rate_data.shape == (5, 6)\n",
    "assert set(roll_rate_data.columns) == {'0', '1', '2', 'C', 'PERIOD', 'X'}\n",
    "assert round(roll_rate_data['0'].sum(), 5) == 0.01634\n",
    "assert round(roll_rate_data['1'].sum(), 5) == 0.238\n",
    "assert round(roll_rate_data['2'].sum(), 5) == 2.19876\n",
    "assert round(roll_rate_data['C'].sum(), 5) == 0\n",
    "assert round(roll_rate_data['X'].sum(), 5) == 0.00845\n",
    "assert set(roll_rate_data['PERIOD']) == {'[-12, 0)', '[-24, -12)', '[-36, -24)', '[-48, -36)', '[-60, -48)'}"
   ]
  },
  {
   "cell_type": "markdown",
   "metadata": {
    "id": "QOu8EJzUZb04"
   },
   "source": [
    "Визуализация полученных результатов roll-rate анализа"
   ]
  },
  {
   "cell_type": "code",
   "execution_count": 22,
   "metadata": {
    "id": "vUvLhqYf6Mrp"
   },
   "outputs": [
    {
     "data": {
      "image/png": "[encoded data removed]",
      "text/plain": [
       "<Figure size 576x432 with 1 Axes>"
      ]
     },
     "metadata": {
      "needs_background": "light"
     },
     "output_type": "display_data"
    }
   ],
   "source": [
    "ind = np.arange(len(roll_rate_data))\n",
    "width = 0.2\n",
    "\n",
    "fig, ax = plt.subplots(figsize=(8, 6))\n",
    "for i, col in enumerate(roll_rate_data.columns):\n",
    "    if col != 'PERIOD':\n",
    "        ax.bar(ind + i*width, roll_rate_data[col], width, label=col)        \n",
    "\n",
    "ax.set(xticks=ind + 1.5*width, xticklabels=roll_rate_data['PERIOD'], xlim=[3*width - 1, len(roll_rate_data)])\n",
    "ax.set_xlabel('Период')\n",
    "ax.set_ylabel('Уровень дефолта')\n",
    "ax.set_title('Roll-rate анализ')\n",
    "ax.legend()\n",
    "\n",
    "plt.show()"
   ]
  },
  {
   "cell_type": "markdown",
   "metadata": {
    "id": "jgtZXUU9PPSM"
   },
   "source": [
    "Результаты roll-rate анализа говорят нам, что для моделирования необходимо выделить два сегмента:\n",
    "* клиенты, находящиеся в просрочке\n",
    "* клиенты без текущей просрочки\n",
    "уровень дефолта которых значимо различается и следует строить две отдельные модели для разных групп.\n",
    "\n",
    "Данная сегментация производится, чтобы избежать следующей ситуации, когда некоторые атрибуты настолько сильно коррелируют с  целевой переменной, что вклад остальных практически нивелируется. Это приводит к моделям с плохим ранжированием внутри группы с одинаковым значением «главного» атрибута. Как мы сейчас увидели один из таких драйверов в кредитном риске – наличие или длительность просрочки по платежу. "
   ]
  },
  {
   "cell_type": "markdown",
   "metadata": {
    "id": "_yTmWhEOZvQW"
   },
   "source": [
    "Чтобы показать разницу в сегментах полезно отобразить зависимость уровня дефолта от месяца для разных сегментов"
   ]
  },
  {
   "cell_type": "code",
   "execution_count": 23,
   "metadata": {
    "id": "VoHXCI60Zu-O"
   },
   "outputs": [
    {
     "data": {
      "image/png": "[encoded data removed]",
      "text/plain": [
       "<Figure size 864x576 with 2 Axes>"
      ]
     },
     "metadata": {
      "needs_background": "light"
     },
     "output_type": "display_data"
    }
   ],
   "source": [
    "segment_good = credit_data_tar[credit_data_tar['STATUS'].isin(['X', '0', 'C'])][['ID', 'MONTHS_BALANCE', 'DEFAULT']]\n",
    "segment_bad = credit_data_tar[~credit_data_tar['STATUS'].isin(['X', '0', 'C'])][['ID', 'MONTHS_BALANCE', 'DEFAULT']]\n",
    "\n",
    "segment_good_gr = segment_good.groupby('MONTHS_BALANCE')['DEFAULT'].mean().to_frame()\n",
    "segment_bad_gr = segment_bad.groupby('MONTHS_BALANCE')['DEFAULT'].mean().to_frame()\n",
    "\n",
    "fig, ax1 = plt.subplots(figsize=(12, 8))\n",
    "ax1.set_title('Распределение уровня дефолта по месяцам')\n",
    "ax1.set_xlabel('Месяц наблюдения')\n",
    "ax1.set_ylabel('Уровень дефолта', color='orange')\n",
    "line1, = ax1.plot(segment_good_gr.index, segment_good_gr['DEFAULT'], color='orange')\n",
    "\n",
    "ax1.tick_params(axis='y')\n",
    "ax2 = ax1.twinx()\n",
    "ax2.set_ylabel('Уровень дефолта', color='blue')\n",
    "line2, = ax2.plot(segment_bad_gr.index, segment_bad_gr['DEFAULT'], color='blue')\n",
    "\n",
    "plt.legend((line1, line2), ('Сегмент без просрочки', 'Сегмент с просрочкой'))\n",
    "\n",
    "plt.show()"
   ]
  },
  {
   "cell_type": "markdown",
   "metadata": {
    "id": "hqFdyB1xMDzI"
   },
   "source": [
    "# Заполните, пожалуйста, обратную связь по ДЗ\n",
    "https://forms.gle/AY2Qadf1FBXArCuv7"
   ]
  },
  {
   "cell_type": "code",
   "execution_count": null,
   "metadata": {},
   "outputs": [],
   "source": []
  }
 ],
 "metadata": {
  "colab": {
   "collapsed_sections": [],
   "name": "Notebook_1_task_sirius_22.ipynb",
   "provenance": []
  },
  "kernelspec": {
   "display_name": "Python 3",
   "language": "python",
   "name": "python3"
  },
  "language_info": {
   "codemirror_mode": {
    "name": "ipython",
    "version": 3
   },
   "file_extension": ".py",
   "mimetype": "text/x-python",
   "name": "python",
   "nbconvert_exporter": "python",
   "pygments_lexer": "ipython3",
   "version": "3.8.5"
  }
 },
 "nbformat": 4,
 "nbformat_minor": 1
}
